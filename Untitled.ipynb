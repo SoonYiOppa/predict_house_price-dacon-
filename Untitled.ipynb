{
 "cells": [
  {
   "cell_type": "code",
   "execution_count": 1,
   "id": "e6740fde-74d0-4646-bfc2-68d41ec181c2",
   "metadata": {},
   "outputs": [],
   "source": [
    "import warnings\n",
    "warnings.filterwarnings(\"ignore\")\n",
    "\n",
    "import pandas as pd\n",
    "import numpy as np\n",
    "\n",
    "data = pd.read_csv(\"./housing/train.csv\", encoding = \"UTF-8\")\n",
    "test = pd.read_csv(\"./housing/test.csv\", encoding= 'UTF-8')"
   ]
  },
  {
   "cell_type": "code",
   "execution_count": 5,
   "id": "1984c09f-b12c-47c3-8b90-f4195265412c",
   "metadata": {},
   "outputs": [
    {
     "data": {
      "text/plain": [
       "Index(['id', 'Overall Qual', 'Gr Liv Area', 'Exter Qual', 'Garage Cars',\n",
       "       'Garage Area', 'Kitchen Qual', 'Total Bsmt SF', '1st Flr SF',\n",
       "       'Bsmt Qual', 'Full Bath', 'Year Built', 'Year Remod/Add',\n",
       "       'Garage Yr Blt', 'target'],\n",
       "      dtype='object')"
      ]
     },
     "execution_count": 5,
     "metadata": {},
     "output_type": "execute_result"
    }
   ],
   "source": [
    "#데이터 컬럼 확인\n",
    "data.columns"
   ]
  },
  {
   "cell_type": "markdown",
   "id": "8c6b0f53-7f01-4166-b650-b154b6d73752",
   "metadata": {},
   "source": [
    "데이터 컬럼에 띄어쓰기가 존재하여 향후 변수를 다룰 때 불편함이 있을 수 있다.\n",
    " 띄어쓰기를 _(under bar)로 대체하는 것이 좋다.\n",
    " 또한, 불피요한 변수인 id를 제거할 예정."
   ]
  },
  {
   "cell_type": "code",
   "execution_count": 6,
   "id": "58008e85-37ae-4f99-a73f-bf72df43af2f",
   "metadata": {
    "collapsed": true,
    "jupyter": {
     "outputs_hidden": true
    },
    "tags": []
   },
   "outputs": [
    {
     "data": {
      "text/plain": [
       "(1350, 15)"
      ]
     },
     "execution_count": 6,
     "metadata": {},
     "output_type": "execute_result"
    }
   ],
   "source": [
    "#데이터 차원 확인\n",
    "data.shape"
   ]
  },
  {
   "cell_type": "code",
   "execution_count": 7,
   "id": "f799588b-cace-431f-8efd-2fb8f08fd665",
   "metadata": {
    "collapsed": true,
    "jupyter": {
     "outputs_hidden": true
    },
    "tags": []
   },
   "outputs": [
    {
     "data": {
      "text/plain": [
       "(1350, 14)"
      ]
     },
     "execution_count": 7,
     "metadata": {},
     "output_type": "execute_result"
    }
   ],
   "source": [
    "#test 데이터 차원 확인\n",
    "test.shape"
   ]
  },
  {
   "cell_type": "markdown",
   "id": "f4dba13d-89c8-4d90-b7c5-de15b6ce9995",
   "metadata": {},
   "source": [
    "data(train data)와 test(test data)는 target 변수를 제외하고 차원이 같은 것을 알 수 있다."
   ]
  },
  {
   "cell_type": "code",
   "execution_count": 9,
   "id": "178287a5-6819-4294-b4a0-0723591345f3",
   "metadata": {
    "collapsed": true,
    "jupyter": {
     "outputs_hidden": true
    },
    "tags": []
   },
   "outputs": [
    {
     "data": {
      "text/plain": [
       "id                 int64\n",
       "Overall Qual       int64\n",
       "Gr Liv Area        int64\n",
       "Exter Qual        object\n",
       "Garage Cars        int64\n",
       "Garage Area        int64\n",
       "Kitchen Qual      object\n",
       "Total Bsmt SF      int64\n",
       "1st Flr SF         int64\n",
       "Bsmt Qual         object\n",
       "Full Bath          int64\n",
       "Year Built         int64\n",
       "Year Remod/Add     int64\n",
       "Garage Yr Blt      int64\n",
       "target             int64\n",
       "dtype: object"
      ]
     },
     "execution_count": 9,
     "metadata": {},
     "output_type": "execute_result"
    }
   ],
   "source": [
    "#data 타입 확인\n",
    "data.dtypes"
   ]
  },
  {
   "cell_type": "markdown",
   "id": "4c7938e5-7970-418b-a561-dc23dd5ae676",
   "metadata": {},
   "source": [
    "수치형 변수 11개 범주형 변수 3개 확인"
   ]
  },
  {
   "cell_type": "code",
   "execution_count": 10,
   "id": "6f0ab25e-2dd9-4ba7-8796-5a68f503595c",
   "metadata": {},
   "outputs": [],
   "source": [
    "# data 와 test의 id 제거\n",
    "data.drop(['id'], axis=1, inplace = True)\n",
    "test.drop(['id'], axis=1, inplace = True)"
   ]
  },
  {
   "cell_type": "code",
   "execution_count": 11,
   "id": "946ea94c-0882-4cdb-8e58-4ee775bdad83",
   "metadata": {
    "collapsed": true,
    "jupyter": {
     "outputs_hidden": true
    },
    "tags": []
   },
   "outputs": [
    {
     "data": {
      "text/plain": [
       "Overall Qual      0\n",
       "Gr Liv Area       0\n",
       "Exter Qual        0\n",
       "Garage Cars       0\n",
       "Garage Area       0\n",
       "Kitchen Qual      0\n",
       "Total Bsmt SF     0\n",
       "1st Flr SF        0\n",
       "Bsmt Qual         0\n",
       "Full Bath         0\n",
       "Year Built        0\n",
       "Year Remod/Add    0\n",
       "Garage Yr Blt     0\n",
       "target            0\n",
       "dtype: int64"
      ]
     },
     "execution_count": 11,
     "metadata": {},
     "output_type": "execute_result"
    }
   ],
   "source": [
    "#데이터 결측치 확인\n",
    "data.isnull().sum()"
   ]
  },
  {
   "cell_type": "code",
   "execution_count": 12,
   "id": "0a46b53d-31dd-446e-a99a-b16d48807e4b",
   "metadata": {
    "tags": []
   },
   "outputs": [
    {
     "data": {
      "text/plain": [
       "Overall Qual      0\n",
       "Gr Liv Area       0\n",
       "Exter Qual        0\n",
       "Garage Cars       0\n",
       "Garage Area       0\n",
       "Kitchen Qual      0\n",
       "Total Bsmt SF     0\n",
       "1st Flr SF        0\n",
       "Bsmt Qual         0\n",
       "Full Bath         0\n",
       "Year Built        0\n",
       "Year Remod/Add    0\n",
       "Garage Yr Blt     0\n",
       "dtype: int64"
      ]
     },
     "execution_count": 12,
     "metadata": {},
     "output_type": "execute_result"
    }
   ],
   "source": [
    "test.isnull().sum()"
   ]
  },
  {
   "cell_type": "markdown",
   "id": "762aaaf1-d33f-4966-8fea-5635983c4a02",
   "metadata": {},
   "source": [
    "data(train data)와 test(test data)의 결측치를 확인해보니 이번 프로젝트에선 결측치가 주어지지 않았습니다. 결측치 처리를 할 필요 없이 변수 명을 변경하고 데이터 EDA와 전처리 작업을 시작했습니다."
   ]
  },
  {
   "cell_type": "code",
   "execution_count": 13,
   "id": "d260373e-a598-404a-a927-aac598ec46de",
   "metadata": {},
   "outputs": [],
   "source": [
    "# data & test 데이터 속성명 변경\n",
    "data.columns=['overall_qual', 'gr_liv_area', 'exter_Qual', 'garage_cars',\n",
    "       'garage_area', 'kitchen_qual', 'total_bsmt_sf', '1st_flr_sf',\n",
    "       'bsmt_qual', 'full_bath', 'year_Built', 'year_remod/add',\n",
    "       'garage_yr_blt', 'target']\n",
    "\n",
    "\n",
    "test.columns=['overall_qual', 'gr_liv_area', 'exter_Qual', 'garage_cars',\n",
    "       'garage_area', 'kitchen_qual', 'total_bsmt_sf', '1st_flr_sf',\n",
    "       'bsmt_qual', 'full_bath', 'year_Built', 'year_remod/add',\n",
    "       'garage_yr_blt']"
   ]
  },
  {
   "cell_type": "code",
   "execution_count": 15,
   "id": "f27cb6ac-1389-476d-9882-52962142477d",
   "metadata": {},
   "outputs": [
    {
     "data": {
      "text/html": [
       "<div>\n",
       "<style scoped>\n",
       "    .dataframe tbody tr th:only-of-type {\n",
       "        vertical-align: middle;\n",
       "    }\n",
       "\n",
       "    .dataframe tbody tr th {\n",
       "        vertical-align: top;\n",
       "    }\n",
       "\n",
       "    .dataframe thead th {\n",
       "        text-align: right;\n",
       "    }\n",
       "</style>\n",
       "<table border=\"1\" class=\"dataframe\">\n",
       "  <thead>\n",
       "    <tr style=\"text-align: right;\">\n",
       "      <th></th>\n",
       "      <th>overall_qual</th>\n",
       "      <th>gr_liv_area</th>\n",
       "      <th>exter_Qual</th>\n",
       "      <th>garage_cars</th>\n",
       "      <th>garage_area</th>\n",
       "      <th>kitchen_qual</th>\n",
       "      <th>total_bsmt_sf</th>\n",
       "      <th>1st_flr_sf</th>\n",
       "      <th>bsmt_qual</th>\n",
       "      <th>full_bath</th>\n",
       "      <th>year_Built</th>\n",
       "      <th>year_remod/add</th>\n",
       "      <th>garage_yr_blt</th>\n",
       "    </tr>\n",
       "  </thead>\n",
       "  <tbody>\n",
       "    <tr>\n",
       "      <th>0</th>\n",
       "      <td>9</td>\n",
       "      <td>1800</td>\n",
       "      <td>Gd</td>\n",
       "      <td>2</td>\n",
       "      <td>702</td>\n",
       "      <td>Ex</td>\n",
       "      <td>1800</td>\n",
       "      <td>1800</td>\n",
       "      <td>Ex</td>\n",
       "      <td>2</td>\n",
       "      <td>2007</td>\n",
       "      <td>2007</td>\n",
       "      <td>2007</td>\n",
       "    </tr>\n",
       "    <tr>\n",
       "      <th>1</th>\n",
       "      <td>6</td>\n",
       "      <td>1082</td>\n",
       "      <td>TA</td>\n",
       "      <td>1</td>\n",
       "      <td>240</td>\n",
       "      <td>TA</td>\n",
       "      <td>1082</td>\n",
       "      <td>1082</td>\n",
       "      <td>TA</td>\n",
       "      <td>1</td>\n",
       "      <td>1948</td>\n",
       "      <td>1950</td>\n",
       "      <td>1948</td>\n",
       "    </tr>\n",
       "    <tr>\n",
       "      <th>2</th>\n",
       "      <td>6</td>\n",
       "      <td>1573</td>\n",
       "      <td>Gd</td>\n",
       "      <td>2</td>\n",
       "      <td>440</td>\n",
       "      <td>Gd</td>\n",
       "      <td>756</td>\n",
       "      <td>769</td>\n",
       "      <td>Gd</td>\n",
       "      <td>2</td>\n",
       "      <td>2000</td>\n",
       "      <td>2000</td>\n",
       "      <td>2000</td>\n",
       "    </tr>\n",
       "    <tr>\n",
       "      <th>3</th>\n",
       "      <td>6</td>\n",
       "      <td>2443</td>\n",
       "      <td>Gd</td>\n",
       "      <td>3</td>\n",
       "      <td>744</td>\n",
       "      <td>Gd</td>\n",
       "      <td>1158</td>\n",
       "      <td>1158</td>\n",
       "      <td>Gd</td>\n",
       "      <td>2</td>\n",
       "      <td>2004</td>\n",
       "      <td>2004</td>\n",
       "      <td>2004</td>\n",
       "    </tr>\n",
       "    <tr>\n",
       "      <th>4</th>\n",
       "      <td>5</td>\n",
       "      <td>1040</td>\n",
       "      <td>TA</td>\n",
       "      <td>2</td>\n",
       "      <td>686</td>\n",
       "      <td>TA</td>\n",
       "      <td>1040</td>\n",
       "      <td>1040</td>\n",
       "      <td>TA</td>\n",
       "      <td>1</td>\n",
       "      <td>1968</td>\n",
       "      <td>1968</td>\n",
       "      <td>1991</td>\n",
       "    </tr>\n",
       "  </tbody>\n",
       "</table>\n",
       "</div>"
      ],
      "text/plain": [
       "   overall_qual  gr_liv_area exter_Qual  garage_cars  garage_area  \\\n",
       "0             9         1800         Gd            2          702   \n",
       "1             6         1082         TA            1          240   \n",
       "2             6         1573         Gd            2          440   \n",
       "3             6         2443         Gd            3          744   \n",
       "4             5         1040         TA            2          686   \n",
       "\n",
       "  kitchen_qual  total_bsmt_sf  1st_flr_sf bsmt_qual  full_bath  year_Built  \\\n",
       "0           Ex           1800        1800        Ex          2        2007   \n",
       "1           TA           1082        1082        TA          1        1948   \n",
       "2           Gd            756         769        Gd          2        2000   \n",
       "3           Gd           1158        1158        Gd          2        2004   \n",
       "4           TA           1040        1040        TA          1        1968   \n",
       "\n",
       "   year_remod/add  garage_yr_blt  \n",
       "0            2007           2007  \n",
       "1            1950           1948  \n",
       "2            2000           2000  \n",
       "3            2004           2004  \n",
       "4            1968           1991  "
      ]
     },
     "execution_count": 15,
     "metadata": {},
     "output_type": "execute_result"
    }
   ],
   "source": []
  }
 ],
 "metadata": {
  "kernelspec": {
   "display_name": "pydatavenv",
   "language": "python",
   "name": "pydatavenv"
  },
  "language_info": {
   "codemirror_mode": {
    "name": "ipython",
    "version": 3
   },
   "file_extension": ".py",
   "mimetype": "text/x-python",
   "name": "python",
   "nbconvert_exporter": "python",
   "pygments_lexer": "ipython3",
   "version": "3.9.7"
  }
 },
 "nbformat": 4,
 "nbformat_minor": 5
}
